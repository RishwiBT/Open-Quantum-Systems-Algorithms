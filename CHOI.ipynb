{
 "cells": [
  {
   "cell_type": "code",
   "execution_count": 1,
   "id": "65611c02-89ce-4dc8-b56d-51dc03bca040",
   "metadata": {
    "tags": []
   },
   "outputs": [
    {
     "name": "stderr",
     "output_type": "stream",
     "text": [
      "qiskit_runtime_service.__init__:INFO:2024-03-11 08:12:21,427: Default instance: ibm-q/open/main\n"
     ]
    }
   ],
   "source": [
    "# Importing standard Qiskit libraries\n",
    "from qiskit import QuantumCircuit, transpile\n",
    "from qiskit.visualization import *\n",
    "from ibm_quantum_widgets import *\n",
    "\n",
    "# qiskit-ibmq-provider has been deprecated.\n",
    "# Please see the Migration Guides in https://ibm.biz/provider_migration_guide for more detail.\n",
    "from qiskit_ibm_runtime import QiskitRuntimeService, Sampler, Estimator, Session, Options\n",
    "\n",
    "# Loading your IBM Quantum account(s)\n",
    "service = QiskitRuntimeService(channel=\"ibm_quantum\")\n",
    "\n",
    "# Invoke a primitive. For more details see https://docs.quantum.ibm.com/run/primitives\n",
    "# result = Sampler().run(circuits).result()"
   ]
  },
  {
   "cell_type": "code",
   "execution_count": 7,
   "id": "1913bd9b-790e-4c33-af87-5dbbeb241c46",
   "metadata": {},
   "outputs": [
    {
     "name": "stdout",
     "output_type": "stream",
     "text": [
      "Choi matrix:\n",
      "[[0.5+0.j 0. +0.j 0. +0.j 0.5+0.j]\n",
      " [0. +0.j 0.5+0.j 0.5+0.j 0. +0.j]\n",
      " [0. +0.j 0.5+0.j 0.5+0.j 0. +0.j]\n",
      " [0.5+0.j 0. +0.j 0. +0.j 0.5+0.j]]\n",
      "\n",
      "(SuperOp representation):\n",
      "[[0.5+0.j 0. +0.j 0. +0.j 0.5+0.j]\n",
      " [0. +0.j 0.5+0.j 0.5+0.j 0. +0.j]\n",
      " [0. +0.j 0.5+0.j 0.5+0.j 0. +0.j]\n",
      " [0.5+0.j 0. +0.j 0. +0.j 0.5+0.j]]\n",
      "\n",
      "Process matrix \n",
      "[[1.+0.j 0.+0.j 0.+0.j 0.+0.j]\n",
      " [0.+0.j 1.+0.j 0.+0.j 0.+0.j]\n",
      " [0.+0.j 0.+0.j 0.+0.j 0.+0.j]\n",
      " [0.+0.j 0.+0.j 0.+0.j 0.+0.j]]\n"
     ]
    }
   ],
   "source": [
    "from qiskit import quantum_info as qi\n",
    "import numpy as np\n",
    "\n",
    "# Define the probability for the bit-flip error\n",
    "p = 0.5\n",
    "\n",
    "# Define the Kraus operators for the bit-flip channel\n",
    "I = np.eye(2)  # Identity matrix\n",
    "X = np.array([[0, 1], [1, 0]])  # Pauli-X matrix\n",
    "E0 = np.sqrt(1-p) * I\n",
    "E1 = np.sqrt(p) * X\n",
    "\n",
    "# Create the bit-flip channel using Kraus operators\n",
    "bit_flip_channel = qi.Kraus([E0, E1])\n",
    "\n",
    "# Get the Choi matrix of the channel\n",
    "choi_matrix = qi.Choi(bit_flip_channel)\n",
    "\n",
    "# Alternatively, create the channel as a SuperOp and get the process matrix\n",
    "process_matrix = qi.SuperOp(bit_flip_channel)\n",
    "\n",
    "# Alternatively, create the channel as a SuperOp and get the process matrix\n",
    "chi_matrix = qi.Chi(bit_flip_channel)\n",
    "\n",
    "print(\"Choi matrix:\")\n",
    "print(choi_matrix.data)\n",
    "\n",
    "print(\"\\n(SuperOp representation):\")\n",
    "print(process_matrix.data)\n",
    "\n",
    "print(\"\\nProcess matrix \")\n",
    "print(chi_matrix.data)"
   ]
  },
  {
   "cell_type": "code",
   "execution_count": 8,
   "id": "ad5e4bd3-46cc-4b69-bef9-f93e83f02a74",
   "metadata": {
    "tags": []
   },
   "outputs": [
    {
     "name": "stdout",
     "output_type": "stream",
     "text": [
      "Choi([[ 0.5+0.j,  0. +0.j,  0. +0.j,  0.5+0.j,  0.5+0.j,  0. +0.j,\n",
      "        0. +0.j, -0.5-0.j,  0. +0.j,  0.5+0.j,  0.5+0.j,  0. +0.j,\n",
      "        0. +0.j, -0.5-0.j,  0.5+0.j,  0. +0.j],\n",
      "      [ 0. +0.j,  0. +0.j,  0. +0.j,  0. +0.j,  0. +0.j,  0. +0.j,\n",
      "        0. +0.j,  0. -0.j,  0. +0.j,  0. +0.j,  0. +0.j,  0. +0.j,\n",
      "        0. +0.j,  0. -0.j,  0. +0.j,  0. +0.j],\n",
      "      [ 0. +0.j,  0. +0.j,  0. +0.j,  0. +0.j,  0. +0.j,  0. +0.j,\n",
      "        0. +0.j,  0. -0.j,  0. +0.j,  0. +0.j,  0. +0.j,  0. +0.j,\n",
      "        0. +0.j,  0. -0.j,  0. +0.j,  0. +0.j],\n",
      "      [ 0.5+0.j,  0. +0.j,  0. +0.j,  0.5+0.j,  0.5+0.j,  0. +0.j,\n",
      "        0. +0.j, -0.5-0.j,  0. +0.j,  0.5+0.j,  0.5+0.j,  0. +0.j,\n",
      "        0. +0.j, -0.5-0.j,  0.5+0.j,  0. +0.j],\n",
      "      [ 0.5+0.j,  0. +0.j,  0. +0.j,  0.5+0.j,  0.5+0.j,  0. +0.j,\n",
      "        0. +0.j, -0.5-0.j,  0. +0.j,  0.5+0.j,  0.5+0.j,  0. +0.j,\n",
      "        0. +0.j, -0.5-0.j,  0.5+0.j,  0. +0.j],\n",
      "      [ 0. +0.j,  0. +0.j,  0. +0.j,  0. +0.j,  0. +0.j,  0. +0.j,\n",
      "        0. +0.j,  0. -0.j,  0. +0.j,  0. +0.j,  0. +0.j,  0. +0.j,\n",
      "        0. +0.j,  0. -0.j,  0. +0.j,  0. +0.j],\n",
      "      [ 0. +0.j,  0. +0.j,  0. +0.j,  0. +0.j,  0. +0.j,  0. +0.j,\n",
      "        0. +0.j,  0. -0.j,  0. +0.j,  0. +0.j,  0. +0.j,  0. +0.j,\n",
      "        0. +0.j,  0. -0.j,  0. +0.j,  0. +0.j],\n",
      "      [-0.5+0.j,  0. +0.j,  0. +0.j, -0.5+0.j, -0.5+0.j,  0. +0.j,\n",
      "        0. +0.j,  0.5+0.j,  0. +0.j, -0.5+0.j, -0.5+0.j,  0. +0.j,\n",
      "        0. +0.j,  0.5+0.j, -0.5+0.j,  0. +0.j],\n",
      "      [ 0. +0.j,  0. +0.j,  0. +0.j,  0. +0.j,  0. +0.j,  0. +0.j,\n",
      "        0. +0.j,  0. -0.j,  0. +0.j,  0. +0.j,  0. +0.j,  0. +0.j,\n",
      "        0. +0.j,  0. -0.j,  0. +0.j,  0. +0.j],\n",
      "      [ 0.5+0.j,  0. +0.j,  0. +0.j,  0.5+0.j,  0.5+0.j,  0. +0.j,\n",
      "        0. +0.j, -0.5-0.j,  0. +0.j,  0.5+0.j,  0.5+0.j,  0. +0.j,\n",
      "        0. +0.j, -0.5-0.j,  0.5+0.j,  0. +0.j],\n",
      "      [ 0.5+0.j,  0. +0.j,  0. +0.j,  0.5+0.j,  0.5+0.j,  0. +0.j,\n",
      "        0. +0.j, -0.5-0.j,  0. +0.j,  0.5+0.j,  0.5+0.j,  0. +0.j,\n",
      "        0. +0.j, -0.5-0.j,  0.5+0.j,  0. +0.j],\n",
      "      [ 0. +0.j,  0. +0.j,  0. +0.j,  0. +0.j,  0. +0.j,  0. +0.j,\n",
      "        0. +0.j,  0. -0.j,  0. +0.j,  0. +0.j,  0. +0.j,  0. +0.j,\n",
      "        0. +0.j,  0. -0.j,  0. +0.j,  0. +0.j],\n",
      "      [ 0. +0.j,  0. +0.j,  0. +0.j,  0. +0.j,  0. +0.j,  0. +0.j,\n",
      "        0. +0.j,  0. -0.j,  0. +0.j,  0. +0.j,  0. +0.j,  0. +0.j,\n",
      "        0. +0.j,  0. -0.j,  0. +0.j,  0. +0.j],\n",
      "      [-0.5+0.j,  0. +0.j,  0. +0.j, -0.5+0.j, -0.5+0.j,  0. +0.j,\n",
      "        0. +0.j,  0.5+0.j,  0. +0.j, -0.5+0.j, -0.5+0.j,  0. +0.j,\n",
      "        0. +0.j,  0.5+0.j, -0.5+0.j,  0. +0.j],\n",
      "      [ 0.5+0.j,  0. +0.j,  0. +0.j,  0.5+0.j,  0.5+0.j,  0. +0.j,\n",
      "        0. +0.j, -0.5-0.j,  0. +0.j,  0.5+0.j,  0.5+0.j,  0. +0.j,\n",
      "        0. +0.j, -0.5-0.j,  0.5+0.j,  0. +0.j],\n",
      "      [ 0. +0.j,  0. +0.j,  0. +0.j,  0. +0.j,  0. +0.j,  0. +0.j,\n",
      "        0. +0.j,  0. -0.j,  0. +0.j,  0. +0.j,  0. +0.j,  0. +0.j,\n",
      "        0. +0.j,  0. -0.j,  0. +0.j,  0. +0.j]],\n",
      "     input_dims=(2, 2), output_dims=(2, 2))\n"
     ]
    }
   ],
   "source": [
    "from qiskit import QuantumCircuit\n",
    "from qiskit.quantum_info import Choi, Operator\n",
    "\n",
    "# Create the entanglement circuit\n",
    "qc = QuantumCircuit(2)\n",
    "qc.h(0)        # Apply Hadamard gate to the first qubit\n",
    "qc.cx(0, 1)    # Apply CNOT gate controlled by the first qubit targeting the second qubit\n",
    "\n",
    "# Convert the circuit into an operator\n",
    "operator = Operator(qc)\n",
    "\n",
    "# Get the Choi matrix of the operator\n",
    "choi_matrix = Choi(operator)\n",
    "\n",
    "# Print the Choi matrix\n",
    "print(choi_matrix)\n"
   ]
  },
  {
   "cell_type": "code",
   "execution_count": 10,
   "id": "80d9e245-c747-46a2-9de0-074502b7ab4b",
   "metadata": {
    "tags": []
   },
   "outputs": [
    {
     "name": "stdout",
     "output_type": "stream",
     "text": [
      "Kraus operator K1:\n",
      "[[ 0.70710678+0.j  0.70710678+0.j  0.        +0.j  0.        +0.j]\n",
      " [ 0.        +0.j  0.        +0.j  0.70710678+0.j -0.70710678+0.j]\n",
      " [ 0.        +0.j  0.        +0.j  0.70710678+0.j  0.70710678+0.j]\n",
      " [ 0.70710678+0.j -0.70710678+0.j  0.        +0.j  0.        +0.j]]\n",
      "\n"
     ]
    }
   ],
   "source": [
    "from qiskit import QuantumCircuit\n",
    "from qiskit.quantum_info import Operator\n",
    "\n",
    "# Create the entanglement circuit\n",
    "qc = QuantumCircuit(2)\n",
    "qc.h(0)        # Apply Hadamard gate to the first qubit\n",
    "qc.cx(0, 1)    # Apply CNOT gate controlled by the first qubit targeting the second qubit\n",
    "\n",
    "# Convert the circuit to a unitary operator\n",
    "unitary = Operator(qc)\n",
    "\n",
    "# The Kraus operator for this unitary process is the unitary itself\n",
    "kraus_op = [unitary.data]\n",
    "\n",
    "# Print out the Kraus operator\n",
    "for i, k in enumerate(kraus_op):\n",
    "    print(f\"Kraus operator K{i+1}:\\n{k}\\n\")\n"
   ]
  },
  {
   "cell_type": "code",
   "execution_count": null,
   "id": "651cfae2-acec-4686-aff6-87bd1a65dc52",
   "metadata": {},
   "outputs": [],
   "source": []
  }
 ],
 "metadata": {
  "kernelspec": {
   "display_name": "Qiskit v1.0.2 (ipykernel)",
   "language": "python",
   "name": "python3"
  },
  "language_info": {
   "codemirror_mode": {
    "name": "ipython",
    "version": 3
   },
   "file_extension": ".py",
   "mimetype": "text/x-python",
   "name": "python",
   "nbconvert_exporter": "python",
   "pygments_lexer": "ipython3",
   "version": "3.10.8"
  },
  "widgets": {
   "application/vnd.jupyter.widget-state+json": {
    "state": {},
    "version_major": 2,
    "version_minor": 0
   }
  }
 },
 "nbformat": 4,
 "nbformat_minor": 5
}
